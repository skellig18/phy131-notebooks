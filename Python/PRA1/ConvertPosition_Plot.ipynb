{
 "cells": [
  {
   "cell_type": "code",
   "execution_count": 1,
   "metadata": {
    "colab": {
     "base_uri": "https://localhost:8080/",
     "height": 174
    },
    "colab_type": "code",
    "executionInfo": {
     "elapsed": 6057,
     "status": "ok",
     "timestamp": 1598908366102,
     "user": {
      "displayName": "Shilo Chislett",
      "photoUrl": "",
      "userId": "17850709936657930153"
     },
     "user_tz": 240
    },
    "id": "QZ3NHoa1WxFN",
    "outputId": "889e583c-7b70-40b2-b089-08ea91a63571"
   },
   "outputs": [],
   "source": [
    "########################################################\n",
    "# ConvertPosition\n",
    "#\n",
    "# This notebook converts position data to velocity and\n",
    "# acceleration data, and then plots the data.  \n",
    "#\n",
    "#\n",
    "########################################################\n",
    "#### -------------- IMPORT BLOCK ------------------ ####\n",
    "# In this section we import important Python packages. #\n",
    "\n",
    "import numpy as np # NumPy, a numerical Python package, is used for representing numerical data\n",
    "import matplotlib.pyplot as plt # Matplotlib, a Python plotting package, is used for plotting data. \n",
    "import matplotlib\n",
    "font = {'size'   : 12}\n",
    "\n",
    "matplotlib.rc('font', **font)"
   ]
  },
  {
   "cell_type": "code",
   "execution_count": 2,
   "metadata": {
    "colab": {},
    "colab_type": "code",
    "executionInfo": {
     "elapsed": 295,
     "status": "ok",
     "timestamp": 1598908545910,
     "user": {
      "displayName": "Emily Tyhurst",
      "photoUrl": "",
      "userId": "17850709936657930153"
     },
     "user_tz": 240
    },
    "id": "NQuddQesWxFR"
   },
   "outputs": [],
   "source": [
    "### -------(!!!) INPUT DATA (!!!) ----------- ###\n",
    "### You may change these variables as needed. ###\n",
    "\n",
    "# The input data section takes two forms: position or acceleration,\n",
    "# depending on your experimental design. Your TA should have let you\n",
    "# know which file to be using.\n",
    "\n",
    "# YOUR_NAME:\n",
    "#\n",
    "# Your name. This will help distinguish your plots.\n",
    "NAME = \"Emily Tyhurst\"\n",
    "\n",
    "# POSITION_FILENAME:\n",
    "#\n",
    "# The name of the file containing your position-time data.\n",
    "# \n",
    "# Your file should be a comma-separated value file\n",
    "# with time in the first column and position in the second. \n",
    "#\n",
    "# The units of position should be meters. \n",
    "POSITION_FILENAME=\"time-position.csv\"  "
   ]
  },
  {
   "cell_type": "code",
   "execution_count": 3,
   "metadata": {
    "colab": {
     "base_uri": "https://localhost:8080/",
     "height": 377
    },
    "colab_type": "code",
    "executionInfo": {
     "elapsed": 331,
     "status": "error",
     "timestamp": 1598908623714,
     "user": {
      "displayName": "Emily Tyhurst",
      "photoUrl": "",
      "userId": "17850709936657930153"
     },
     "user_tz": 240
    },
    "id": "-T7Q_gRIWxFV",
    "outputId": "cb3822bf-fb1b-4a8c-9d94-b7feed49aa0c"
   },
   "outputs": [],
   "source": [
    "#### ------------- DATA LOAD BLOCK ------------------- ####\n",
    "# In this section we import CSV files from your Practical #\n",
    "# and load them into NumPy arrays.                        #\n",
    "\n",
    "# Use NumPy to load the position data from the CSV file\n",
    "position_data = np.genfromtxt(POSITION_FILENAME, delimiter=',', comments='#', skip_header=True)\n",
    "\n",
    "# Separate the data into position and time \n",
    "time=  position_data[:,0] # time in (s)\n",
    "position = position_data[:,1] # position in m\n",
    "\n",
    "# Calculate the velocity based on position\n",
    "\n",
    "velocity = np.gradient(position, time)\n",
    "\n",
    "# Calculate the acceleration based on position \n",
    "\n",
    "acceleration = np.gradient(velocity, time)\n"
   ]
  },
  {
   "cell_type": "code",
   "execution_count": 4,
   "metadata": {
    "colab": {},
    "colab_type": "code",
    "id": "agEO2hkGWxFY"
   },
   "outputs": [
    {
     "data": {
      "image/png": "[encoded data removed]",
      "text/plain": [
       "<Figure size 432x288 with 1 Axes>"
      ]
     },
     "metadata": {},
     "output_type": "display_data"
    },
    {
     "data": {
      "text/plain": [
       "<Figure size 432x288 with 0 Axes>"
      ]
     },
     "metadata": {},
     "output_type": "display_data"
    }
   ],
   "source": [
    "#### ---------- POSITION PLOTTING BLOCK ------------- ####\n",
    "# In this section we plot the data from your experiment. #\n",
    "# Here we are plotting position against time.            #\n",
    "\n",
    "plt.plot(time, position, 'b.', label=\"Position (cm)\")\n",
    "plt.title(NAME+\": Position Data\")\n",
    "plt.xlabel(\"Time (s)\")\n",
    "plt.ylabel(\"Position (cm)\")\n",
    "plt.grid()\n",
    "plt.legend()\n",
    "plt.savefig(NAME.replace(\" \",\"_\")+\"_Position_Data.png\")\n",
    "plt.show()\n",
    "plt.clf()"
   ]
  },
  {
   "cell_type": "code",
   "execution_count": 6,
   "metadata": {
    "colab": {},
    "colab_type": "code",
    "id": "jZU6uXAlWxFa",
    "outputId": "b8e5d6b6-add1-4f8b-a646-c86216654581"
   },
   "outputs": [
    {
     "data": {
      "image/png": "[encoded data removed]",
      "text/plain": [
       "<Figure size 432x288 with 1 Axes>"
      ]
     },
     "metadata": {},
     "output_type": "display_data"
    },
    {
     "data": {
      "text/plain": [
       "<Figure size 432x288 with 0 Axes>"
      ]
     },
     "metadata": {},
     "output_type": "display_data"
    }
   ],
   "source": [
    "#### ---------- VELOCITY PLOTTING BLOCK ------------- ####\n",
    "# In this section we plot the data from your experiment. #\n",
    "# Here we are plotting force/mass next to acceleration.  #\n",
    "\n",
    "plt.plot(time, velocity, 'b.', label=\"Velocity (cm/s)\")\n",
    "plt.title(NAME+\": Velocity Data\")\n",
    "plt.xlabel(\"Time (s)\")\n",
    "plt.ylabel(\"Velocity (cm/s)\")\n",
    "plt.grid()\n",
    "plt.legend()\n",
    "plt.savefig(NAME.replace(\" \",\"_\")+\"_Velocity_Data.png\")\n",
    "plt.show()\n",
    "plt.clf()\n"
   ]
  },
  {
   "cell_type": "code",
   "execution_count": 7,
   "metadata": {
    "colab": {},
    "colab_type": "code",
    "id": "Uw2-siWdWxFe",
    "outputId": "eda21d75-af0a-4bb5-86a0-dd78a261abe1"
   },
   "outputs": [
    {
     "data": {
      "image/png": "[encoded data removed]",
      "text/plain": [
       "<Figure size 432x288 with 1 Axes>"
      ]
     },
     "metadata": {},
     "output_type": "display_data"
    },
    {
     "data": {
      "text/plain": [
       "<Figure size 432x288 with 0 Axes>"
      ]
     },
     "metadata": {},
     "output_type": "display_data"
    }
   ],
   "source": [
    "#### ---------- ACCELERATION PLOTTING BLOCK ------------- ####\n",
    "# In this section we plot the data from your experiment.  #\n",
    "# Here we are plotting acceleration over time.            #\n",
    "\n",
    "plt.plot(time, acceleration, 'b.', label=\"Acceleration $(cm/s^2)$\")\n",
    "plt.title(NAME+\": Acceleration Data\")\n",
    "plt.xlabel(\"Time $(s)$\")\n",
    "plt.ylabel(\"Acceleration $(cm/s^2)$\")\n",
    "plt.grid()\n",
    "plt.legend()\n",
    "plt.savefig(NAME.replace(\" \",\"_\")+\"_Acceleration_Data.png\")\n",
    "plt.show()\n",
    "plt.clf()"
   ]
  }
 ],
 "metadata": {
  "colab": {
   "name": "ConvertPosition_FitConstant.ipynb",
   "provenance": []
  },
  "kernelspec": {
   "display_name": "Python 3",
   "language": "python",
   "name": "python3"
  },
  "language_info": {
   "codemirror_mode": {
    "name": "ipython",
    "version": 3
   },
   "file_extension": ".py",
   "mimetype": "text/x-python",
   "name": "python",
   "nbconvert_exporter": "python",
   "pygments_lexer": "ipython3",
   "version": "3.6.9"
  }
 },
 "nbformat": 4,
 "nbformat_minor": 1
}
