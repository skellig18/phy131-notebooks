{
 "cells": [
  {
   "cell_type": "code",
   "execution_count": 1,
   "metadata": {
    "colab": {
     "base_uri": "https://localhost:8080/",
     "height": 174
    },
    "colab_type": "code",
    "executionInfo": {
     "elapsed": 6057,
     "status": "ok",
     "timestamp": 1598908366102,
     "user": {
      "displayName": "Emily Tyhurst",
      "photoUrl": "",
      "userId": "17850709936657930153"
     },
     "user_tz": 240
    },
    "id": "QZ3NHoa1WxFN",
    "outputId": "889e583c-7b70-40b2-b089-08ea91a63571"
   },
   "outputs": [
    {
     "name": "stdout",
     "output_type": "stream",
     "text": [
      "Defaulting to user installation because normal site-packages is not writeable\n",
      "Requirement already satisfied: numpy in /HDD/Users/andrew/.local/lib/python3.5/site-packages (1.14.0)\n",
      "\u001b[33mWARNING: You are using pip version 20.0.2; however, version 20.3.4 is available.\n",
      "You should consider upgrading via the '/usr/bin/python3 -m pip install --upgrade pip' command.\u001b[0m\n",
      "Defaulting to user installation because normal site-packages is not writeable\n",
      "Requirement already satisfied: matplotlib in /HDD/Users/andrew/.local/lib/python3.5/site-packages (2.1.2)\n",
      "Requirement already satisfied: numpy>=1.7.1 in /HDD/Users/andrew/.local/lib/python3.5/site-packages (from matplotlib) (1.14.0)\n",
      "Requirement already satisfied: six>=1.10 in /HDD/Users/andrew/.local/lib/python3.5/site-packages (from matplotlib) (1.11.0)\n",
      "Requirement already satisfied: pytz in /HDD/Users/andrew/.local/lib/python3.5/site-packages (from matplotlib) (2018.3)\n",
      "Requirement already satisfied: pyparsing!=2.0.4,!=2.1.2,!=2.1.6,>=2.0.1 in /HDD/Users/andrew/.local/lib/python3.5/site-packages (from matplotlib) (2.2.0)\n",
      "Requirement already satisfied: cycler>=0.10 in /HDD/Users/andrew/.local/lib/python3.5/site-packages (from matplotlib) (0.10.0)\n",
      "Requirement already satisfied: python-dateutil>=2.1 in /HDD/Users/andrew/.local/lib/python3.5/site-packages (from matplotlib) (2.6.1)\n",
      "\u001b[33mWARNING: You are using pip version 20.0.2; however, version 20.3.4 is available.\n",
      "You should consider upgrading via the '/usr/bin/python3 -m pip install --upgrade pip' command.\u001b[0m\n",
      "Defaulting to user installation because normal site-packages is not writeable\n",
      "Requirement already satisfied: pandas in /usr/local/lib/python3.5/dist-packages (0.24.2)\n",
      "Requirement already satisfied: numpy>=1.12.0 in /HDD/Users/andrew/.local/lib/python3.5/site-packages (from pandas) (1.14.0)\n",
      "Requirement already satisfied: python-dateutil>=2.5.0 in /HDD/Users/andrew/.local/lib/python3.5/site-packages (from pandas) (2.6.1)\n",
      "Requirement already satisfied: pytz>=2011k in /HDD/Users/andrew/.local/lib/python3.5/site-packages (from pandas) (2018.3)\n",
      "Requirement already satisfied: six>=1.5 in /HDD/Users/andrew/.local/lib/python3.5/site-packages (from python-dateutil>=2.5.0->pandas) (1.11.0)\n",
      "\u001b[33mWARNING: You are using pip version 20.0.2; however, version 20.3.4 is available.\n",
      "You should consider upgrading via the '/usr/bin/python3 -m pip install --upgrade pip' command.\u001b[0m\n"
     ]
    }
   ],
   "source": [
    "########################################################\n",
    "# ConvertPosition_FitConstant\n",
    "#\n",
    "# This notebook converts position data to velocity and\n",
    "# acceleration data, and then plots the average of each\n",
    "# as a fit to the data. Deviation plots are also given. \n",
    "#\n",
    "#\n",
    "########################################################\n",
    "#### -------------- IMPORT BLOCK ------------------ ####\n",
    "# In this section we import important Python packages. #\n",
    "!pip install numpy\n",
    "!pip install matplotlib\n",
    "!pip install pandas\n",
    "\n",
    "import numpy as np # NumPy, a numerical Python package, is used for representing numerical data\n",
    "import matplotlib.pyplot as plt # Matplotlib, a Python plotting package, is used for plotting data. \n",
    "import matplotlib\n",
    "import pandas as pd # Pandas, a Python package for handling data, used here to export to csv files easily\n",
    "font = {'size'   : 12}\n",
    "\n",
    "matplotlib.rc('font', **font)"
   ]
  },
  {
   "cell_type": "code",
   "execution_count": 2,
   "metadata": {
    "colab": {},
    "colab_type": "code",
    "executionInfo": {
     "elapsed": 295,
     "status": "ok",
     "timestamp": 1598908545910,
     "user": {
      "displayName": "Emily Tyhurst",
      "photoUrl": "",
      "userId": "17850709936657930153"
     },
     "user_tz": 240
    },
    "id": "NQuddQesWxFR"
   },
   "outputs": [],
   "source": [
    "### -------(!!!) INPUT DATA (!!!) ----------- ###\n",
    "### You may change these variables as needed. ###\n",
    "\n",
    "# The input data section takes two forms: position or acceleration,\n",
    "# depending on your experimental design. Your TA should have let you\n",
    "# know which file to be using.\n",
    "\n",
    "# YOUR_NAME:\n",
    "#\n",
    "# Your name. This will help distinguish your plots.\n",
    "NAME = \"Emily Tyhurst\"\n",
    "\n",
    "# POSITION_FILENAME:\n",
    "#\n",
    "# The name of the file containing your position-time data.\n",
    "# \n",
    "# Your file should be a comma-separated value file\n",
    "# with time in the first column and position in the second. \n",
    "#\n",
    "# The units of position should be meters. \n",
    "POSITION_FILENAME=\"time-position.csv\"  "
   ]
  },
  {
   "cell_type": "code",
   "execution_count": 3,
   "metadata": {
    "colab": {
     "base_uri": "https://localhost:8080/",
     "height": 377
    },
    "colab_type": "code",
    "executionInfo": {
     "elapsed": 331,
     "status": "error",
     "timestamp": 1598908623714,
     "user": {
      "displayName": "Emily Tyhurst",
      "photoUrl": "",
      "userId": "17850709936657930153"
     },
     "user_tz": 240
    },
    "id": "-T7Q_gRIWxFV",
    "outputId": "cb3822bf-fb1b-4a8c-9d94-b7feed49aa0c"
   },
   "outputs": [],
   "source": [
    "#### ------------- DATA LOAD BLOCK ------------------- ####\n",
    "# In this section we import CSV files from your Practical #\n",
    "# and load them into NumPy arrays.                        #\n",
    "\n",
    "# Use NumPy to load the position data from the CSV file\n",
    "position_data = np.genfromtxt(POSITION_FILENAME, delimiter=',', comments='#', skip_header=True)\n",
    "\n",
    "# Separate the data into position and time \n",
    "time=  position_data[:,0] # time in (s)\n",
    "position = position_data[:,1] # position in m\n",
    "\n",
    "# Calculate the velocity based on position\n",
    "\n",
    "velocity = np.gradient(position, time)\n",
    "\n",
    "# Calculate the acceleration based on position \n",
    "\n",
    "acceleration = np.gradient(velocity, time)\n"
   ]
  },
  {
   "cell_type": "code",
   "execution_count": 4,
   "metadata": {
    "colab": {},
    "colab_type": "code",
    "id": "agEO2hkGWxFY"
   },
   "outputs": [],
   "source": [
    "#### ------------- FITTING BLOCK ------------------- ####\n",
    "# In this section we average the data to get a constant #\n",
    "# fit to the data.                                      #\n",
    "\n",
    "# Calculate the average velocity. \n",
    "avg_velocity = np.mean(velocity)\n",
    "fit_velocity = np.ones(np.shape(velocity))*avg_velocity\n",
    "\n",
    "# Calculate the spread in this average velocity. \n",
    "rmsd_velocity = np.sqrt(np.mean((velocity-fit_velocity)**2))\n",
    "\n",
    "# Calculate the average acceleration.\n",
    "avg_acceleration= np.mean(acceleration)\n",
    "fit_acceleration = np.ones(np.shape(acceleration))*avg_acceleration\n",
    "\n",
    "# Calculate the root mean square deviation \n",
    "rmsd_acceleration= np.sqrt(np.mean((acceleration-fit_acceleration)**2))"
   ]
  },
  {
   "cell_type": "code",
   "execution_count": 5,
   "metadata": {
    "colab": {},
    "colab_type": "code",
    "id": "jZU6uXAlWxFa",
    "outputId": "b8e5d6b6-add1-4f8b-a646-c86216654581"
   },
   "outputs": [
    {
     "data": {
      "image/png": "[encoded data removed]",
      "text/plain": [
       "<matplotlib.figure.Figure at 0x7f51f26fd080>"
      ]
     },
     "metadata": {},
     "output_type": "display_data"
    },
    {
     "data": {
      "text/plain": [
       "<matplotlib.figure.Figure at 0x7f51f26c3da0>"
      ]
     },
     "metadata": {},
     "output_type": "display_data"
    }
   ],
   "source": [
    "#### ---------- VELOCITY PLOTTING BLOCK ------------- ####\n",
    "# In this section we plot the data from your experiment. #\n",
    "# Here we are plotting force/mass next to acceleration.  #\n",
    "\n",
    "plt.plot(time, velocity, 'b.', label=\"Velocity (m/s)\")\n",
    "plt.plot(time, fit_velocity, 'r-', label= \"Average Velocity (m/s)\")\n",
    "plt.title(NAME+\": Velocity Data\")\n",
    "plt.xlabel(\"Time (s)\")\n",
    "plt.ylabel(\"Velocity (m/s)\")\n",
    "plt.grid()\n",
    "plt.legend()\n",
    "plt.savefig(NAME.replace(\" \",\"_\")+\"_Velocity_Data.png\")\n",
    "plt.show()\n",
    "plt.clf()\n"
   ]
  },
  {
   "cell_type": "code",
   "execution_count": 6,
   "metadata": {
    "colab": {},
    "colab_type": "code",
    "id": "Uw2-siWdWxFe",
    "outputId": "eda21d75-af0a-4bb5-86a0-dd78a261abe1"
   },
   "outputs": [
    {
     "data": {
      "image/png": "[encoded data removed]",
      "text/plain": [
       "<matplotlib.figure.Figure at 0x7f51f2651710>"
      ]
     },
     "metadata": {},
     "output_type": "display_data"
    },
    {
     "data": {
      "text/plain": [
       "<matplotlib.figure.Figure at 0x7f520595d240>"
      ]
     },
     "metadata": {},
     "output_type": "display_data"
    }
   ],
   "source": [
    "#### ---------- ACCELERATION PLOTTING BLOCK ------------- ####\n",
    "# In this section we plot the data from your experiment. #\n",
    "# Here we are plotting force/mass next to acceleration.  #\n",
    "\n",
    "plt.plot(time, acceleration, 'b.', label=\"Acceleration $(m/s^2)$\")\n",
    "plt.plot(time, fit_acceleration, 'r-', label= \"Average Acceleration $(m/s^2)$\")\n",
    "plt.title(NAME+\": Acceleration Data\")\n",
    "plt.xlabel(\"Time $(s)$\")\n",
    "plt.ylabel(\"Acceleration $(m/s^2)$\")\n",
    "plt.grid()\n",
    "plt.legend()\n",
    "plt.savefig(NAME.replace(\" \",\"_\")+\"_Acceleration_Data.png\")\n",
    "plt.show()\n",
    "plt.clf()"
   ]
  },
  {
   "cell_type": "code",
   "execution_count": 7,
   "metadata": {
    "colab": {},
    "colab_type": "code",
    "id": "FaXWoUhuWxFn",
    "outputId": "f273b020-da6c-4396-d581-3b18965aaea1"
   },
   "outputs": [
    {
     "data": {
      "image/png": "[encoded data removed]",
      "text/plain": [
       "<matplotlib.figure.Figure at 0x7f52059c6be0>"
      ]
     },
     "metadata": {},
     "output_type": "display_data"
    }
   ],
   "source": [
    "#### ---------- ACCELERATION DEVIATION BLOCK ---------- ####\n",
    "# In this section we compare the data from your experiment #\n",
    "# to determine more precisely if the hypothesis is true.   #\n",
    "\n",
    "plt.plot(time, acceleration - fit_acceleration, 'r.', label=\"Deviation $(m/s^2)$\")\n",
    "plt.text(0,0, \"Root Mean Square Deviation: {:.2f}\".format(rmsd_acceleration))\n",
    "plt.title(NAME+\": Acceleration Deviation from Fit\")\n",
    "plt.xlabel(\"Time $(s)$\")\n",
    "plt.ylabel(\"Acceleration $(m/s^2)$\")\n",
    "plt.grid()\n",
    "plt.legend()\n",
    "plt.savefig(NAME.replace(\" \",\"_\")+\"_Acceleration_Deviation.png\")\n",
    "plt.show()\n"
   ]
  },
  {
   "cell_type": "code",
   "execution_count": 8,
   "metadata": {
    "colab": {},
    "colab_type": "code",
    "id": "uo2WCUSWWxFq",
    "outputId": "d188c93f-2c80-4be5-85fc-a9622bc4425f"
   },
   "outputs": [
    {
     "data": {
      "image/png": "[encoded data removed]",
      "text/plain": [
       "<matplotlib.figure.Figure at 0x7f520594bb00>"
      ]
     },
     "metadata": {},
     "output_type": "display_data"
    }
   ],
   "source": [
    "#### ----------- VELOCITY DEVIATION BLOCK ------------- ####\n",
    "# In this section we compare the data from your experiment #\n",
    "# to determine more precisely if the hypothesis is true.   #\n",
    "\n",
    "plt.plot(time, velocity - fit_velocity, 'r.', label=\"Deviation (m/s)\")\n",
    "plt.text(0,0, \"Root Mean Square Deviation: {:.2f}\".format(rmsd_velocity))\n",
    "plt.title(NAME+\" Velocity Deviation from Fit\")\n",
    "plt.xlabel(\"Time $(s)$\")\n",
    "plt.ylabel(\"Velocity $(m/s)$\")\n",
    "plt.grid()\n",
    "plt.legend()\n",
    "plt.savefig(NAME.replace(\" \",\"_\")+\"_Velocity_Deviation.png\")\n",
    "plt.show()"
   ]
  },
  {
   "cell_type": "code",
   "execution_count": 9,
   "metadata": {
    "colab": {},
    "colab_type": "code",
    "id": "LKlIuFejWxFt"
   },
   "outputs": [],
   "source": [
    "#### ---------------- OUTPUT BLOCK ---------------- ####\n",
    "# Here we output the calculated values into a csv file #\n",
    "\n",
    "output_filename = POSITION_FILENAME[:POSITION_FILENAME.find('.csv')]+'_calculated_values.csv'\n",
    "\n",
    "data = pd.DataFrame({\"time\": time, \"position\": position, \"velocity\": velocity, \"acceleration\": acceleration,\n",
    "                     \"fit_acceleration\": fit_acceleration, \"fit_velocity\": fit_velocity, \n",
    "                     \"rmsd_acceleration\": rmsd_acceleration, \"rmsd_velocity\": rmsd_velocity})\n",
    "data.to_csv(output_filename)"
   ]
  },
  {
   "cell_type": "code",
   "execution_count": null,
   "metadata": {
    "colab": {},
    "colab_type": "code",
    "id": "9vaakEb4WxFw"
   },
   "outputs": [],
   "source": []
  }
 ],
 "metadata": {
  "colab": {
   "name": "ConvertPosition_FitConstant.ipynb",
   "provenance": []
  },
  "kernelspec": {
   "display_name": "Python 3",
   "language": "python",
   "name": "python3"
  },
  "language_info": {
   "codemirror_mode": {
    "name": "ipython",
    "version": 3
   },
   "file_extension": ".py",
   "mimetype": "text/x-python",
   "name": "python",
   "nbconvert_exporter": "python",
   "pygments_lexer": "ipython3",
   "version": "3.5.2"
  }
 },
 "nbformat": 4,
 "nbformat_minor": 4
}
