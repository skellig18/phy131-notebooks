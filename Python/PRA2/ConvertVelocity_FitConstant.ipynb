{
 "cells": [
  {
   "cell_type": "code",
   "execution_count": 1,
   "metadata": {},
   "outputs": [],
   "source": [
    "########################################################\n",
    "# ConvertVelocity_FitConstant\n",
    "#\n",
    "# This notebook converts velocity data to velocity and\n",
    "# acceleration data, and then plots the average of each\n",
    "# as a fit to the data. Deviation plots are also given. \n",
    "#\n",
    "#\n",
    "########################################################\n",
    "#### -------------- IMPORT BLOCK ------------------ ####\n",
    "# In this section we import important Python packages. #\n",
    "\n",
    "import numpy as np # NumPy, a numerical Python package, is used for representing numerical data\n",
    "import matplotlib.pyplot as plt # Matplotlib, a Python plotting package, is used for plotting data. \n",
    "import matplotlib\n",
    "import pandas as pd # Pandas, a Python package for handling data, used here to export to csv files easily\n",
    "font = {'size'   : 12}\n",
    "\n",
    "matplotlib.rc('font', **font)"
   ]
  },
  {
   "cell_type": "code",
   "execution_count": 2,
   "metadata": {},
   "outputs": [],
   "source": [
    "### -------(!!!) INPUT DATA (!!!) ----------- ###\n",
    "### You may change these variables as needed. ###\n",
    "\n",
    "# The input data section takes two forms: position or acceleration,\n",
    "# depending on your experimental design. Your TA should have let you\n",
    "# know which file to be using.\n",
    "\n",
    "# YOUR_NAME:\n",
    "#\n",
    "# Your name. This will help distinguish your plots.\n",
    "NAME = \"Emily Tyhurst\"\n",
    "\n",
    "# VELOCITY_FILENAME:\n",
    "#\n",
    "# The name of the file containing your velocity-time data.\n",
    "# \n",
    "# Your file should be a comma-separated value file\n",
    "# with time in the first column and position in the second. \n",
    "#\n",
    "# The units of veloctiy should be m/s. \n",
    "VELOCITY_FILENAME=\"time-velocity.csv\"  "
   ]
  },
  {
   "cell_type": "code",
   "execution_count": 3,
   "metadata": {},
   "outputs": [],
   "source": [
    "#### ------------- DATA LOAD BLOCK ------------------- ####\n",
    "# In this section we import CSV files from your Practical #\n",
    "# and load them into NumPy arrays.                        #\n",
    "\n",
    "# Use NumPy to load the position data from the CSV file\n",
    "velocity_data = np.genfromtxt(VELOCITY_FILENAME, delimiter=',', comments='#',skip_header=True)\n",
    "\n",
    "# Separate the data into position and time \n",
    "time=  velocity_data[:,0] # time in (s)\n",
    "velocity = velocity_data[:,1] # velocity in m/s\n",
    "\n",
    "# Calculate the acceleration based on position \n",
    "acceleration = np.gradient(velocity, time)\n"
   ]
  },
  {
   "cell_type": "code",
   "execution_count": 4,
   "metadata": {},
   "outputs": [],
   "source": [
    "#### ------------- FITTING BLOCK ------------------- ####\n",
    "# In this section we average the data to get a constant #\n",
    "# fit to the data.                                      #\n",
    "\n",
    "# Calculate the average velocity. \n",
    "avg_velocity = np.mean(velocity)\n",
    "fit_velocity = np.ones(np.shape(velocity))*avg_velocity\n",
    "\n",
    "# Calculate the spread in this average velocity. \n",
    "rmsd_velocity = np.sqrt(np.mean((velocity-fit_velocity)**2))\n",
    "\n",
    "# Calculate the average acceleration.\n",
    "avg_acceleration= np.mean(acceleration)\n",
    "fit_acceleration = np.ones(np.shape(acceleration))*avg_acceleration\n",
    "\n",
    "# Calculate the root mean square deviation \n",
    "rmsd_acceleration= np.sqrt(np.mean((acceleration-fit_acceleration)**2))"
   ]
  },
  {
   "cell_type": "code",
   "execution_count": 5,
   "metadata": {},
   "outputs": [
    {
     "data": {
      "image/png": "[encoded data removed]",
      "text/plain": [
       "<matplotlib.figure.Figure at 0x7f35dcc19ef0>"
      ]
     },
     "metadata": {},
     "output_type": "display_data"
    },
    {
     "data": {
      "text/plain": [
       "<matplotlib.figure.Figure at 0x7f35dcbeef28>"
      ]
     },
     "metadata": {},
     "output_type": "display_data"
    }
   ],
   "source": [
    "#### ---------- VELOCITY PLOTTING BLOCK ------------- ####\n",
    "# In this section we plot the data from your experiment. #\n",
    "# Here we are plotting force/mass next to acceleration.  #\n",
    "\n",
    "plt.plot(time, velocity, 'b.', label=\"Velocity (m/s)\")\n",
    "plt.plot(time, fit_velocity, 'r-', label= \"Average Velocity (m/s)\")\n",
    "plt.title(NAME+\": Velocity Data\")\n",
    "plt.xlabel(\"Time (s)\")\n",
    "plt.ylabel(\"Velocity (m/s)\")\n",
    "plt.grid()\n",
    "plt.legend()\n",
    "plt.savefig(NAME.replace(\" \",\"_\")+\"_Velocity_Data.png\")\n",
    "plt.show()\n",
    "plt.clf()\n"
   ]
  },
  {
   "cell_type": "code",
   "execution_count": 6,
   "metadata": {},
   "outputs": [
    {
     "data": {
      "image/png": "[encoded data removed]",
      "text/plain": [
       "<matplotlib.figure.Figure at 0x7f35dcbd6550>"
      ]
     },
     "metadata": {},
     "output_type": "display_data"
    },
    {
     "data": {
      "text/plain": [
       "<matplotlib.figure.Figure at 0x7f35efc890b8>"
      ]
     },
     "metadata": {},
     "output_type": "display_data"
    }
   ],
   "source": [
    "#### ---------- ACCELERATION PLOTTING BLOCK ------------- ####\n",
    "# In this section we plot the data from your experiment. #\n",
    "# Here we are plotting force/mass next to acceleration.  #\n",
    "\n",
    "plt.plot(time, acceleration, 'b.', label=\"Acceleration $(m/s^2)$\")\n",
    "plt.plot(time, fit_acceleration, 'r-', label= \"Average Acceleration $(m/s^2)$\")\n",
    "plt.title(NAME+\": Acceleration Data\")\n",
    "plt.xlabel(\"Time $(s)$\")\n",
    "plt.ylabel(\"Acceleration $(m/s^2)$\")\n",
    "plt.grid()\n",
    "plt.legend()\n",
    "plt.savefig(NAME.replace(\" \",\"_\")+\"_Acceleration_Data.png\")\n",
    "plt.show()\n",
    "plt.clf()"
   ]
  },
  {
   "cell_type": "code",
   "execution_count": 7,
   "metadata": {},
   "outputs": [
    {
     "data": {
      "image/png": "[encoded data removed]",
      "text/plain": [
       "<matplotlib.figure.Figure at 0x7f35efcc4f98>"
      ]
     },
     "metadata": {},
     "output_type": "display_data"
    }
   ],
   "source": [
    "#### ---------- ACCELERATION DEVIATION BLOCK ---------- ####\n",
    "# In this section we compare the data from your experiment #\n",
    "# to determine more precisely if the hypothesis is true.   #\n",
    "\n",
    "plt.plot(time, acceleration - fit_acceleration, 'r.', label=\"Deviation $(m/s^2)$\")\n",
    "plt.text(0,0, \"Root Mean Square Deviation: {:.2f}\".format(rmsd_acceleration))\n",
    "plt.title(NAME+\": Acceleration Deviation from Fit\")\n",
    "plt.xlabel(\"Time $(s)$\")\n",
    "plt.ylabel(\"Acceleration $(m/s^2)$\")\n",
    "plt.grid()\n",
    "plt.legend()\n",
    "plt.savefig(NAME.replace(\" \",\"_\")+\"_Acceleration_Deviation.png\")\n",
    "plt.show()\n"
   ]
  },
  {
   "cell_type": "code",
   "execution_count": 8,
   "metadata": {},
   "outputs": [
    {
     "data": {
      "image/png": "[encoded data removed]",
      "text/plain": [
       "<matplotlib.figure.Figure at 0x7f35efbac630>"
      ]
     },
     "metadata": {},
     "output_type": "display_data"
    }
   ],
   "source": [
    "#### ----------- VELOCITY DEVIATION BLOCK ------------- ####\n",
    "# In this section we compare the data from your experiment #\n",
    "# to determine more precisely if the hypothesis is true.   #\n",
    "\n",
    "plt.plot(time, velocity - fit_velocity, 'r.', label=\"Deviation (m/s)\")\n",
    "plt.text(0,0, \"Root Mean Square Deviation: {:.2f}\".format(rmsd_velocity))\n",
    "plt.title(NAME+\" Velocity Deviation from Fit\")\n",
    "plt.xlabel(\"Time $(s)$\")\n",
    "plt.ylabel(\"Velocity $(m/s)$\")\n",
    "plt.grid()\n",
    "plt.legend()\n",
    "plt.savefig(NAME.replace(\" \",\"_\")+\"_Velocity_Deviation.png\")\n",
    "plt.show()"
   ]
  },
  {
   "cell_type": "code",
   "execution_count": 10,
   "metadata": {},
   "outputs": [],
   "source": [
    "#### ---------------- OUTPUT BLOCK ---------------- ####\n",
    "# Here we output the calculated values into a csv file #\n",
    "\n",
    "output_filename = VELOCITY_FILENAME[:VELOCITY_FILENAME.find('.csv')]+'_calculated_values.csv'\n",
    "\n",
    "data = pd.DataFrame({\"time\": time, \"velocity\": velocity, \"acceleration\": acceleration,\n",
    "                     \"fit_acceleration\": fit_acceleration, \"fit_velocity\": fit_velocity, \n",
    "                     \"rmsd_acceleration\": rmsd_acceleration, \"rmsd_velocity\": rmsd_velocity})\n",
    "data.to_csv(output_filename)"
   ]
  },
  {
   "cell_type": "code",
   "execution_count": null,
   "metadata": {},
   "outputs": [],
   "source": []
  }
 ],
 "metadata": {
  "kernelspec": {
   "display_name": "Python 3",
   "language": "python",
   "name": "python3"
  },
  "language_info": {
   "codemirror_mode": {
    "name": "ipython",
    "version": 3
   },
   "file_extension": ".py",
   "mimetype": "text/x-python",
   "name": "python",
   "nbconvert_exporter": "python",
   "pygments_lexer": "ipython3",
   "version": "3.5.2"
  }
 },
 "nbformat": 4,
 "nbformat_minor": 4
}
